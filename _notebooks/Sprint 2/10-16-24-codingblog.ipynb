{
 "cells": [
  {
   "cell_type": "markdown",
   "metadata": {},
   "source": [
    "# **Carson Sutherland's Coding Blog**"
   ]
  },
  {
   "cell_type": "markdown",
   "metadata": {},
   "source": [
    "In this blog will act as a collection where I will share my insights on my recent projects in computer science. I will share thoughts on various concepts, data structures, booleans, etc. \n",
    "\n",
    "I strive to highlight not just the technical side of coding but also the collaborative spirit of learning alongside my peers. This might involve group presentations, reflections on my independent studies, or sharing distinctive coding samples."
   ]
  },
  {
   "cell_type": "markdown",
   "metadata": {},
   "source": [
    "### **Topic 3.10**"
   ]
  },
  {
   "cell_type": "markdown",
   "metadata": {},
   "source": [
    "Our group's responsibility was to present lesson 3.10. We explored how to edit, alter, and create lists in both python and JavaScript. We demonstrated  clear techniques and gave our peers easy to follow direction and examples on how to utilize our lesson's topic. "
   ]
  },
  {
   "cell_type": "markdown",
   "metadata": {},
   "source": [
    "### **Lesson 3.2 Breakdown**"
   ]
  },
  {
   "cell_type": "markdown",
   "metadata": {},
   "source": [
    "- **What are integers?** \n",
    "\n",
    " Whole numbers used in various calculations.\n",
    "\n",
    "- **What are floating-point #?**\n",
    "\n",
    "\"floats\" that represent real numbers that contain a fractional part, expressed with decimals.\n",
    "\n",
    "- **What are strings?**\n",
    "\n",
    "They're sequences of characters enclosed in quotes; they represent text. "
   ]
  },
  {
   "cell_type": "markdown",
   "metadata": {},
   "source": [
    "### **Lesson 3.5 Breakdown**"
   ]
  },
  {
   "cell_type": "markdown",
   "metadata": {},
   "source": [
    "- **What is a boolean expression?**\n",
    "\n",
    "An expression that produces a Boolean (either true or false) when evaluated\n",
    "\n",
    "- **Boolean Value** = can only be true or false\n",
    " \n",
    "- **logical operator** = booleans can be combined using logical operators (AND, OR, NOT) to create complex conditions that dictate program flow .\n",
    "\n",
    "- **relational operators** = These operators help compare values and determines their relationships, forming the basisi for conditional statements in programming. \n"
   ]
  },
  {
   "cell_type": "markdown",
   "metadata": {},
   "source": [
    "## **Sprint 2 Relection**"
   ]
  },
  {
   "cell_type": "markdown",
   "metadata": {},
   "source": [
    "**Exploration of Lesson 3.10:** \n",
    "\n",
    "- Worked with JavaScript and Python codes \n",
    "- Deepened understanding of data structures and coding itself\n",
    "- importance of teamwork and organization when programming\n",
    "\n",
    "\n",
    "**Key Takeaway:**\n",
    "\n",
    "- Teamwork: crucial for gaining new perspectives and learning or teaching more creative or efficient ways to finish a project\n",
    "- Organization: crucial for project-based learning and challenges\n",
    "- Asking questions: solidifies/confirms the ideas/thoughts that one has\n",
    "\n",
    "\n",
    "**Standout Moment:** \n",
    "\n",
    "- interaction with classmates \n",
    "- relevant topics\n",
    "- many questions answered\n",
    "\n",
    "\n",
    "**Vital Understandings:**\n",
    "\n",
    "- The importance of lists in complex programs\n",
    "- How vital small differences in language determines a list\n",
    "- Connection to relevancy checklist, showing interconnected lessons that build a solid learning base.\n",
    "\n",
    "\n",
    "**Personal Growth and Accomplishments**\n",
    "\n",
    "- Broadened my knowledge on the basic techniques in programming.\n",
    "- Improved my clarity in certain ideas when I asked questions and completed hacks.\n",
    "- Gained useful skills that I will benefit from in the future."
   ]
  },
  {
   "cell_type": "markdown",
   "metadata": {},
   "source": [
    "### **Overall Sprint 2**\n",
    "\n",
    "- Deeper understanding of topics I already knew and expanded knowlege on topics I had no clue about.\n",
    "- More comfort with speaking to my peers and asking questions."
   ]
  }
 ],
 "metadata": {
  "language_info": {
   "name": "python"
  }
 },
 "nbformat": 4,
 "nbformat_minor": 2
}
