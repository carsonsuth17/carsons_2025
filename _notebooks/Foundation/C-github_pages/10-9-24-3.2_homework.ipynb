{
 "cells": [
  {
   "cell_type": "markdown",
   "metadata": {},
   "source": [
    "## Homework Hack 3.2 "
   ]
  },
  {
   "cell_type": "code",
   "execution_count": null,
   "metadata": {
    "vscode": {
     "languageId": "javascript"
    }
   },
   "outputs": [],
   "source": [
    "%%js\n",
    "// Movies categorized by genre\n",
    "let movieGenres = {\n",
    "    \"Action\": [\n",
    "        \"Mad Max: Fury Road\",\n",
    "        \"John Wick\",\n",
    "        \"The Dark Knight\"\n",
    "    ],\n",
    "    \"Comedy\": [\n",
    "        \"21 Jump Street\",\n",
    "        \"Superbad\",\n",
    "        \"Groundhog Day\"\n",
    "    ],\n",
    "    \"Drama\": [\n",
    "        \"Forrest Gump\",\n",
    "        \"Whiplash\",\n",
    "        \"Fight Club\"\n",
    "    ],\n",
    "    \"Horror\": [\n",
    "        \"The Conjuring\",\n",
    "        \"Hereditary\",\n",
    "        \"Get Out\"\n",
    "    ],\n",
    "    \"Sci-Fi\": [\n",
    "        \"Inception\",\n",
    "        \"Blade Runner 2049\",\n",
    "        \"The Matrix\"\n",
    "    ],\n",
    "    \"Romance\": [\n",
    "        \"The Notebook\",\n",
    "        \"Pride and Prejudice\",\n",
    "        \"La La Land\"\n",
    "    ]\n",
    "};\n",
    "\n",
    "// Function to display movies by genre\n",
    "function displayMoviesByGenre(genres) {\n",
    "    for (let genre in genres) {\n",
    "        console.log(`Movies in ${genre}:`);\n",
    "        genres[genre].forEach(movie => {\n",
    "            console.log(`- ${movie}`);\n",
    "        });\n",
    "        console.log(\"\\n\");\n",
    "    }\n",
    "}\n",
    "\n",
    "// Call the function to display movies\n",
    "displayMoviesByGenre(movieGenres);\n"
   ]
  },
  {
   "cell_type": "markdown",
   "metadata": {},
   "source": [
    "100% on the quiz"
   ]
  },
  {
   "cell_type": "markdown",
   "metadata": {},
   "source": [
    "Hack #1:"
   ]
  },
  {
   "cell_type": "code",
   "execution_count": null,
   "metadata": {
    "vscode": {
     "languageId": "javascript"
    }
   },
   "outputs": [],
   "source": [
    "%%js \n",
    "const movieGenres = {\n",
    "    action: {\n",
    "      title: \"Action Movies\",\n",
    "      movies: [\n",
    "        { name: \"Mad Max: Fury Road\", year: 2015, director: \"George Miller\" },\n",
    "        { name: \"Die Hard\", year: 1988, director: \"John McTiernan\" },\n",
    "        { name: \"The Dark Knight\", year: 2008, director: \"Christopher Nolan\" }\n",
    "      ]\n",
    "    },\n",
    "    comedy: {\n",
    "      title: \"Comedy Movies\",\n",
    "      movies: [\n",
    "        { name: \"Superbad\", year: 2007, director: \"Greg Mottola\" },\n",
    "        { name: \"The Hangover\", year: 2009, director: \"Todd Phillips\" },\n",
    "        { name: \"Anchorman: The Legend of Ron Burgundy\", year: 2004, director: \"Adam McKay\" }\n",
    "      ]\n",
    "    },\n",
    "    drama: {\n",
    "      title: \"Drama Movies\",\n",
    "      movies: [\n",
    "        { name: \"The Godfather\", year: 1972, director: \"Francis Ford Coppola\" },\n",
    "        { name: \"Shawshank Redemption\", year: 1994, director: \"Frank Darabont\" },\n",
    "        { name: \"Parasite\", year: 2019, director: \"Bong Joon-ho\" }\n",
    "      ]\n",
    "    },\n",
    "    sciFi: {\n",
    "      title: \"Science Fiction Movies\",\n",
    "      movies: [\n",
    "        { name: \"Inception\", year: 2010, director: \"Christopher Nolan\" },\n",
    "        { name: \"Blade Runner 2049\", year: 2017, director: \"Denis Villeneuve\" },\n",
    "        { name: \"The Matrix\", year: 1999, director: \"The Wachowskis\" }\n",
    "      ]\n",
    "    },\n",
    "    horror: {\n",
    "      title: \"Horror Movies\",\n",
    "      movies: [\n",
    "        { name: \"The Exorcist\", year: 1973, director: \"William Friedkin\" },\n",
    "        { name: \"Get Out\", year: 2017, director: \"Jordan Peele\" },\n",
    "        { name: \"Hereditary\", year: 2018, director: \"Ari Aster\" }\n",
    "      ]\n",
    "    },\n",
    "    romance: {\n",
    "      title: \"Romance Movies\",\n",
    "      movies: [\n",
    "        { name: \"Pride and Prejudice\", year: 2005, director: \"Joe Wright\" },\n",
    "        { name: \"La La Land\", year: 2016, director: \"Damien Chazelle\" },\n",
    "        { name: \"The Notebook\", year: 2004, director: \"Nick Cassavetes\" }\n",
    "      ]\n",
    "    },\n",
    "    animation: {\n",
    "      title: \"Animated Movies\",\n",
    "      movies: [\n",
    "        { name: \"Toy Story\", year: 1995, director: \"John Lasseter\" },\n",
    "        { name: \"Spirited Away\", year: 2001, director: \"Hayao Miyazaki\" },\n",
    "        { name: \"Into the Spider-Verse\", year: 2018, director: \"Peter Ramsey, Rodney Rothman, Bob Persichetti\" }\n",
    "      ]\n",
    "    },\n",
    "    thriller: {\n",
    "      title: \"Thriller Movies\",\n",
    "      movies: [\n",
    "        { name: \"Se7en\", year: 1995, director: \"David Fincher\" },\n",
    "        { name: \"Gone Girl\", year: 2014, director: \"David Fincher\" },\n",
    "        { name: \"The Silence of the Lambs\", year: 1991, director: \"Jonathan Demme\" }\n",
    "      ]\n",
    "    },\n",
    "    documentary: {\n",
    "      title: \"Documentary Movies\",\n",
    "      movies: [\n",
    "        { name: \"Free Solo\", year: 2018, director: \"Elizabeth Chai Vasarhelyi, Jimmy Chin\" },\n",
    "        { name: \"13th\", year: 2016, director: \"Ava DuVernay\" },\n",
    "        { name: \"Won't You Be My Neighbor?\", year: 2018, director: \"Morgan Neville\" }\n",
    "      ]\n",
    "    },\n",
    "    fantasy: {\n",
    "      title: \"Fantasy Movies\",\n",
    "      movies: [\n",
    "        { name: \"The Lord of the Rings: The Fellowship of the Ring\", year: 2001, director: \"Peter Jackson\" },\n",
    "        { name: \"Harry Potter and the Sorcerer's Stone\", year: 2001, director: \"Chris Columbus\" },\n",
    "        { name: \"Pan's Labyrinth\", year: 2006, director: \"Guillermo del Toro\" }\n",
    "      ]\n",
    "    }\n",
    "  };\n",
    "  \n",
    "  // Example usage:\n",
    "  console.log(movieGenres.action.movies); // Outputs action movies\n",
    "  "
   ]
  },
  {
   "cell_type": "markdown",
   "metadata": {},
   "source": [
    "Hack #2"
   ]
  },
  {
   "cell_type": "code",
   "execution_count": null,
   "metadata": {
    "vscode": {
     "languageId": "javascript"
    }
   },
   "outputs": [],
   "source": [
    "const projectSprints = {\n",
    "    sprint1: {\n",
    "      title: \"Sprint 1\",\n",
    "      tasks: [\n",
    "        \"Frontend Development\",\n",
    "        \"GitHub Pages Playground\",\n",
    "        \"JavaScript Playground\"\n",
    "      ]\n",
    "    },\n",
    "    // Example placeholders for future sprints\n",
    "    sprint2: {\n",
    "      title: \"Sprint 2\",\n",
    "      tasks: [\n",
    "        \"Backend Integration\",\n",
    "        \"Database Setup\",\n",
    "        \"API Development\"\n",
    "      ]\n",
    "    },\n",
    "    sprint3: {\n",
    "      title: \"Sprint 3\",\n",
    "      tasks: [\n",
    "        \"Authentication and Authorization\",\n",
    "        \"UI/UX Improvements\",\n",
    "        \"Testing and Debugging\"\n",
    "      ]\n",
    "    }\n",
    "  };\n",
    "  \n",
    "  // Example usage:\n",
    "  console.log(projectSprints.sprint1.tasks); // Outputs the tasks for Sprint 1\n",
    "  "
   ]
  },
  {
   "cell_type": "markdown",
   "metadata": {},
   "source": [
    "Hack #3"
   ]
  },
  {
   "cell_type": "code",
   "execution_count": null,
   "metadata": {
    "vscode": {
     "languageId": "javascript"
    }
   },
   "outputs": [],
   "source": [
    "const discography = {\n",
    "    \"Frank Ocean\": {\n",
    "      albums: [\n",
    "        { title: \"Blonde\", year: 2016, genre: [\"R&B\", \"Art Pop\"], tracks: [\"Nikes\", \"Nights\"] },\n",
    "        { title: \"Channel Orange\", year: 2012, genre: [\"R&B\", \"Neo-soul\"], tracks: [\"Thinkin Bout You\", \"Pyramids\"] }\n",
    "      ]\n",
    "    },\n",
    "    \"Kanye West\": {\n",
    "      albums: [\n",
    "        { title: \"My Beautiful Dark Twisted Fantasy\", year: 2010, genre: [\"Hip-hop\", \"Art Pop\"], tracks: [\"Power\", \"Runaway\"] },\n",
    "        { title: \"The College Dropout\", year: 2004, genre: [\"Hip-hop\"], tracks: [\"All Falls Down\", \"Jesus Walks\"] }\n",
    "      ]\n",
    "    },\n",
    "    \"Tyler, The Creator\": {\n",
    "      albums: [\n",
    "        { title: \"IGOR\", year: 2019, genre: [\"Hip-hop\", \"Neo-soul\"], tracks: [\"EARFQUAKE\", \"NEW MAGIC WAND\"] },\n",
    "        { title: \"Flower Boy\", year: 2017, genre: [\"Hip-hop\"], tracks: [\"See You Again\", \"Boredom\"] }\n",
    "      ]\n",
    "    },\n",
    "    \"Kid Cudi\": {\n",
    "      albums: [\n",
    "        { title: \"Man on the Moon: The End of Day\", year: 2009, genre: [\"Hip-hop\", \"Psychedelic\"], tracks: [\"Day 'n' Nite\", \"Pursuit of Happiness\"] },\n",
    "        { title: \"Man on the Moon II\", year: 2010, genre: [\"Hip-hop\", \"Alternative\"], tracks: [\"Erase Me\", \"Mr. Rager\"] }\n",
    "      ]\n",
    "    }\n",
    "  };\n",
    "  \n",
    "  // Example usage:\n",
    "  console.log(discography[\"Frank Ocean\"].albums); // Outputs Frank Ocean's albums\n",
    "  "
   ]
  }
 ],
 "metadata": {
  "language_info": {
   "name": "python"
  }
 },
 "nbformat": 4,
 "nbformat_minor": 2
}
