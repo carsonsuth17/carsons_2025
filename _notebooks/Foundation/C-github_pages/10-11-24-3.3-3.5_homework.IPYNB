{
 "cells": [
  {
   "cell_type": "markdown",
   "metadata": {},
   "source": [
    "## Homework + Popcorn Hacks 3.3-3.5"
   ]
  },
  {
   "cell_type": "markdown",
   "metadata": {},
   "source": [
    "## 3.3"
   ]
  },
  {
   "cell_type": "markdown",
   "metadata": {},
   "source": [
    "Homework hack #1"
   ]
  },
  {
   "cell_type": "code",
   "execution_count": null,
   "metadata": {},
   "outputs": [],
   "source": [
    "def calculate_y(x):\n",
    "    # Calculate y using the given formula\n",
    "    y = 7 * (x + 4) - 6\n",
    "    return y\n",
    "\n",
    "# Example usage:\n",
    "x_value = float(input(\"Enter a value for x: \"))\n",
    "y_value = calculate_y(x_value)\n",
    "print(f\"The value of y when x = {x_value} is: {y_value}\")\n"
   ]
  },
  {
   "cell_type": "markdown",
   "metadata": {},
   "source": [
    "Homework hack #2"
   ]
  },
  {
   "cell_type": "markdown",
   "metadata": {},
   "source": [
    "86?"
   ]
  },
  {
   "cell_type": "markdown",
   "metadata": {},
   "source": [
    "Homework hack #3"
   ]
  },
  {
   "cell_type": "code",
   "execution_count": null,
   "metadata": {},
   "outputs": [],
   "source": [
    "# List of numbers to test\n",
    "numbers = [1, 2, 3, 4, 5, 6, 7, 8, 9, 10]\n",
    "\n",
    "# Function to check divisibility by 3\n",
    "def check_divisibility(numbers):\n",
    "    for number in numbers:\n",
    "        if number % 3 == 0:\n",
    "            print(f\"{number} is divisible by 3\")\n",
    "        else:\n",
    "            remainder = number % 3\n",
    "            print(f\"{number}: Remainder is {remainder}\")\n",
    "\n",
    "# Call the function\n",
    "check_divisibility(numbers)\n"
   ]
  }
 ],
 "metadata": {
  "language_info": {
   "name": "python"
  }
 },
 "nbformat": 4,
 "nbformat_minor": 2
}
