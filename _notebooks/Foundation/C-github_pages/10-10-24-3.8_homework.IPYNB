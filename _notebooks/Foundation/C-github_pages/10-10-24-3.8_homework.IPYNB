{
 "cells": [
  {
   "cell_type": "markdown",
   "metadata": {},
   "source": [
    "## Homework + Popcorn hacks 3.8"
   ]
  },
  {
   "cell_type": "markdown",
   "metadata": {},
   "source": [
    "Popcorn hack #1"
   ]
  },
  {
   "cell_type": "code",
   "execution_count": null,
   "metadata": {},
   "outputs": [],
   "source": [
    "# Original ticket price\n",
    "original_price = 10.00\n",
    "\n",
    "# Ask the user if they are a student\n",
    "student_response = input(\"Are you a student? (yes or no): \").strip().lower()\n",
    "\n",
    "# Check the response\n",
    "if student_response == \"yes\":\n",
    "    # Calculate the discount\n",
    "    discount = original_price * 0.20\n",
    "    final_price = original_price - discount\n",
    "    print(f\"As a student, you receive a 20% discount! Your ticket price is: ${final_price:.2f}\")\n",
    "elif student_response == \"no\":\n",
    "    print(f\"Your ticket price is: ${original_price:.2f}\")\n",
    "else:\n",
    "    # Handle invalid responses\n",
    "    while student_response not in [\"yes\", \"no\"]:\n",
    "        print(\"Invalid response. Please answer 'yes' or 'no'.\")\n",
    "        student_response = input(\"Are you a student? (yes or no): \").strip().lower()\n",
    "    \n",
    "    # Re-evaluate after getting a valid response\n",
    "    if student_response == \"yes\":\n",
    "        discount = original_price * 0.20\n",
    "        final_price = original_price - discount\n",
    "        print(f\"As a student, you receive a 20% discount! Your ticket price is: ${final_price:.2f}\")\n",
    "    else:\n",
    "        print(f\"Your ticket price is: ${original_price:.2f}\")\n"
   ]
  },
  {
   "cell_type": "markdown",
   "metadata": {},
   "source": [
    "Popcorn hack #2"
   ]
  },
  {
   "cell_type": "code",
   "execution_count": null,
   "metadata": {},
   "outputs": [],
   "source": [
    "# Original ticket price\n",
    "original_price = 10.00\n",
    "\n",
    "# Ask the user for a number\n",
    "number_input = input(\"Please enter a number: \")\n",
    "\n",
    "try:\n",
    "    number = int(number_input)  # Convert the input to an integer\n",
    "except ValueError:\n",
    "    print(\"Invalid input! Please enter a valid integer.\")\n",
    "    exit()\n",
    "\n",
    "# Check if the number is even or odd\n",
    "if number % 2 == 0:\n",
    "    print(f\"The number {number} is even.\")\n",
    "else:\n",
    "    print(f\"The number {number} is odd.\")\n",
    "\n",
    "# Ask the user if they are a student\n",
    "student_response = input(\"Are you a student? (yes or no): \").strip().lower()\n",
    "\n",
    "# Check the response\n",
    "if student_response == \"yes\":\n",
    "    # Calculate the discount\n",
    "    discount = original_price * 0.20\n",
    "    final_price = original_price - discount\n",
    "    print(f\"As a student, you receive a 20% discount! Your ticket price is: ${final_price:.2f}\")\n",
    "elif student_response == \"no\":\n",
    "    print(f\"Your ticket price is: ${original_price:.2f}\")\n",
    "else:\n",
    "    # Handle invalid responses\n",
    "    while student_response not in [\"yes\", \"no\"]:\n",
    "        print(\"Invalid response. Please answer 'yes' or 'no'.\")\n",
    "        student_response = input(\"Are you a student? (yes or no): \").strip().lower()\n",
    "    \n",
    "    # Re-evaluate after getting a valid response\n",
    "    if student_response == \"yes\":\n",
    "        discount = original_price * 0.20\n",
    "        final_price = original_price - discount\n",
    "        print(f\"As a student, you receive a 20% discount! Your ticket price is: ${final_price:.2f}\")\n",
    "    else:\n",
    "        print(f\"Your ticket price is: ${original_price:.2f}\")\n"
   ]
  },
  {
   "cell_type": "markdown",
   "metadata": {},
   "source": [
    "Homework Hack #1"
   ]
  },
  {
   "cell_type": "code",
   "execution_count": null,
   "metadata": {},
   "outputs": [],
   "source": [
    "while True:\n",
    "    user_input = input(\"Please enter a positive number: \")\n",
    "\n",
    "    # Input validation: Check if the input is a number\n",
    "    try:\n",
    "        number = float(user_input)  # Convert the input to a float\n",
    "    except ValueError:\n",
    "        print(\"Error: That is not a valid number. Please try again.\")\n",
    "        continue  # Go back to the beginning of the loop\n",
    "\n",
    "    # Check if the number is positive\n",
    "    if number > 0:\n",
    "        print(f\"Success! You entered: {number}\")\n",
    "        break  # Exit the loop\n",
    "    else:\n",
    "        print(\"Try again. Please enter a positive number.\")\n"
   ]
  }
 ],
 "metadata": {
  "language_info": {
   "name": "python"
  }
 },
 "nbformat": 4,
 "nbformat_minor": 2
}
