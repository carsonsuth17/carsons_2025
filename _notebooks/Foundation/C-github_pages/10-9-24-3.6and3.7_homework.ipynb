{
 "cells": [
  {
   "cell_type": "markdown",
   "metadata": {},
   "source": [
    "## Homework Hack 3.6/3.7"
   ]
  },
  {
   "cell_type": "markdown",
   "metadata": {},
   "source": [
    "## Hack 3.6:"
   ]
  },
  {
   "cell_type": "code",
   "execution_count": null,
   "metadata": {
    "vscode": {
     "languageId": "javascript"
    }
   },
   "outputs": [],
   "source": [
    "%% js\n",
    "# Get two numbers from the user\n",
    "num1 = float(input(\"Enter the first number: \"))\n",
    "num2 = float(input(\"Enter the second number: \"))\n",
    "\n",
    "# Check if the numbers are equal\n",
    "if num1 == num2:\n",
    "    print(\"Both numbers are equal.\")\n",
    "else:\n",
    "    # Determine and print the larger number\n",
    "    if num1 > num2:\n",
    "        print(f\"The larger number is: {num1}\")\n",
    "    else:\n",
    "        print(f\"The larger number is: {num2}\")\n"
   ]
  },
  {
   "cell_type": "markdown",
   "metadata": {},
   "source": [
    "Explanation:\n",
    "input(): Takes input from the user.\n",
    "float(): Converts the input to a floating-point number (in case of decimal values).\n",
    "if-else: Used to compare the numbers and check if they are equal or which one is larger."
   ]
  },
  {
   "cell_type": "markdown",
   "metadata": {},
   "source": [
    "## Hack 3.7:"
   ]
  },
  {
   "cell_type": "markdown",
   "metadata": {},
   "source": [
    "Pseudocode: Determine if a student passes a class based on exam scores and attendance (using nested conditionals)"
   ]
  },
  {
   "cell_type": "code",
   "execution_count": null,
   "metadata": {
    "vscode": {
     "languageId": "sql"
    }
   },
   "outputs": [],
   "source": [
    "START\n",
    "    Input exam_score\n",
    "    Input attendance_percentage\n",
    "    \n",
    "    IF attendance_percentage < 75\n",
    "        PRINT \"Fail due to low attendance\"\n",
    "    ELSE\n",
    "        IF exam_score >= 50\n",
    "            PRINT \"Pass\"\n",
    "        ELSE\n",
    "            PRINT \"Fail due to low exam score\"\n",
    "        END IF\n",
    "    END IF\n",
    "END\n"
   ]
  },
  {
   "cell_type": "markdown",
   "metadata": {},
   "source": [
    "Python Segment: Shipping Cost Based on Weight and Delivery Speed (using nested conditionals)"
   ]
  },
  {
   "cell_type": "code",
   "execution_count": null,
   "metadata": {},
   "outputs": [],
   "source": [
    "# Input the weight of the package and the delivery speed\n",
    "weight = float(input(\"Enter the package weight in kg: \"))\n",
    "delivery_speed = input(\"Enter delivery speed (standard or express): \").lower()\n",
    "\n",
    "# Determine the shipping cost based on weight and delivery speed\n",
    "if weight <= 1:\n",
    "    if delivery_speed == \"standard\":\n",
    "        cost = 5.00\n",
    "    elif delivery_speed == \"express\":\n",
    "        cost = 10.00\n",
    "    else:\n",
    "        cost = 0  # Invalid speed\n",
    "elif weight <= 5:\n",
    "    if delivery_speed == \"standard\":\n",
    "        cost = 10.00\n",
    "    elif delivery_speed == \"express\":\n",
    "        cost = 20.00\n",
    "    else:\n",
    "        cost = 0  # Invalid speed\n",
    "else:\n",
    "    if delivery_speed == \"standard\":\n",
    "        cost = 20.00\n",
    "    elif delivery_speed == \"express\":\n",
    "        cost = 40.00\n",
    "    else:\n",
    "        cost = 0  # Invalid speed\n",
    "\n",
    "# Print the result or error if an invalid speed was entered\n",
    "if cost == 0:\n",
    "    print(\"Invalid delivery speed entered.\")\n",
    "else:\n",
    "    print(f\"Shipping cost: ${cost:.2f}\")\n"
   ]
  },
  {
   "cell_type": "markdown",
   "metadata": {},
   "source": [
    "## JavaScript Segment: Ticket Prices for Different Ages with Student Discount"
   ]
  },
  {
   "cell_type": "code",
   "execution_count": null,
   "metadata": {
    "vscode": {
     "languageId": "javascript"
    }
   },
   "outputs": [],
   "source": [
    "##js\n",
    "# Input age and student status\n",
    "age = int(input(\"Enter your age: \"))\n",
    "is_student = input(\"Are you a student? (yes or no): \").lower()\n",
    "\n",
    "# Determine ticket price based on age and student status\n",
    "if age < 12:\n",
    "    ticket_price = 5.00  # Child price\n",
    "elif age <= 18 or age >= 65:\n",
    "    ticket_price = 7.00  # Teen or Senior price\n",
    "else:\n",
    "    ticket_price = 10.00  # Adult price\n",
    "\n",
    "# Apply student discount if applicable\n",
    "if is_student == \"yes\" and age > 18:\n",
    "    ticket_price *= 0.8  # 20% discount for adult students\n",
    "\n",
    "# Print the final ticket price\n",
    "print(f\"Your ticket price is: ${ticket_price:.2f}\")\n",
    "\n"
   ]
  },
  {
   "cell_type": "markdown",
   "metadata": {},
   "source": [
    "challenge hack:"
   ]
  },
  {
   "cell_type": "code",
   "execution_count": null,
   "metadata": {
    "vscode": {
     "languageId": "javascript"
    }
   },
   "outputs": [],
   "source": [
    "%%js\n",
    "def classify_triangle():\n",
    "    print(\"Enter the lengths of the three sides of a triangle:\")\n",
    "\n",
    "    # Input validation for the lengths of the triangle\n",
    "    try:\n",
    "        a = float(input(\"Side 1: \"))\n",
    "        b = float(input(\"Side 2: \"))\n",
    "        c = float(input(\"Side 3: \"))\n",
    "\n",
    "        if a <= 0 or b <= 0 or c <= 0:\n",
    "            print(\"Please enter positive numbers only.\")\n",
    "            return\n",
    "\n",
    "        # Check if the sides can form a valid triangle\n",
    "        if a + b > c and a + c > b and b + c > a:\n",
    "            # Determine the type of triangle\n",
    "            if a == b == c:\n",
    "                print(\"The triangle is an Equilateral Triangle.\")\n",
    "            elif a == b or a == c or b == c:\n",
    "                print(\"The triangle is an Isosceles Triangle.\")\n",
    "            else:\n",
    "                print(\"The triangle is a Scalene Triangle.\")\n",
    "        else:\n",
    "            print(\"The lengths do not form a valid triangle.\")\n",
    "    except ValueError:\n",
    "        print(\"Invalid input. Please enter numeric values.\")\n",
    "\n",
    "# Run the triangle classification program\n",
    "classify_triangle()\n"
   ]
  },
  {
   "cell_type": "markdown",
   "metadata": {},
   "source": []
  }
 ],
 "metadata": {
  "language_info": {
   "name": "python"
  }
 },
 "nbformat": 4,
 "nbformat_minor": 2
}
