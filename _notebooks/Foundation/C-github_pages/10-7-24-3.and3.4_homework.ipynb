{
 "cells": [
  {
   "cell_type": "markdown",
   "metadata": {},
   "source": [
    "---\n",
    "layout: post\n",
    "title: Homework + Popcorn Hacks 3.1/4.5\n",
    "description: homework and popcorn\n",
    "categories: [Collaboration]\n",
    "menu: nav/pair_programming.html\n",
    "permalink: /3.1and3.4/homework\n",
    "type: collab\n",
    "comments: true\n",
    "---"
   ]
  },
  {
   "cell_type": "markdown",
   "metadata": {},
   "source": [
    "## Homework + Popcorn hacks 3.1/3.4"
   ]
  },
  {
   "cell_type": "markdown",
   "metadata": {},
   "source": [
    "## 3.1"
   ]
  },
  {
   "cell_type": "code",
   "execution_count": null,
   "metadata": {
    "vscode": {
     "languageId": "javascript"
    }
   },
   "outputs": [],
   "source": [
    "%%js\n",
    "\n",
    "let fullName = \"Jane Smith\";\n",
    "let age = 32;\n",
    "let email = \"jane.smith@example.com\";\n",
    "let hobby = \"Photography\";\n",
    "let dietaryPreferences = \"Vegetarian\";\n",
    "\n",
    "// Unique ID based on the sum of character codes of the initials and age\n",
    "let initials = fullName[0] + fullName[fullName.indexOf(\" \") + 1];\n",
    "let charCodeSum = initials.charCodeAt(0) + initials.charCodeAt(1);\n",
    "let uniqueId = initials + (charCodeSum + age);\n",
    "\n",
    "// Store data in an object\n",
    "let personalInfo = {\n",
    "    fullName: fullName,\n",
    "    age: age,\n",
    "    email: email,\n",
    "    hobby: hobby,\n",
    "    dietaryPreferences: dietaryPreferences,\n",
    "    uniqueId: uniqueId\n",
    "};\n",
    "\n",
    "// Display the formatted info\n",
    "function displayInfo(info) {\n",
    "    console.log(\"Personal Info:\");\n",
    "    console.log(`- Full Name: ${info.fullName}`);\n",
    "    console.log(`- Age: ${info.age}`);\n",
    "    console.log(`- Email: ${info.email}`);\n",
    "    console.log(`- Hobby: ${info.hobby}`);\n",
    "    console.log(`- Dietary Preferences: ${info.dietaryPreferences}`);\n",
    "    console.log(`- Unique ID: ${info.uniqueId}`);\n",
    "}\n",
    "\n",
    "displayInfo(personalInfo);\n"
   ]
  },
  {
   "cell_type": "markdown",
   "metadata": {},
   "source": [
    "Popcorn hack "
   ]
  },
  {
   "cell_type": "code",
   "execution_count": null,
   "metadata": {
    "vscode": {
     "languageId": "javascript"
    }
   },
   "outputs": [],
   "source": [
    "%%js\n",
    "function createProfile({ name = \"Unknown\", age = 0, occupation = \"Unemployed\", interests = [], location = \"Unknown\" } = {}) {\n",
    "    return {\n",
    "      name: name,\n",
    "      age: age,\n",
    "      occupation: occupation,\n",
    "      interests: interests,\n",
    "      location: location,\n",
    "      displayProfile: function() {\n",
    "        console.log(`Name: ${this.name}`);\n",
    "        console.log(`Age: ${this.age}`);\n",
    "        console.log(`Occupation: ${this.occupation}`);\n",
    "        console.log(`Location: ${this.location}`);\n",
    "        console.log(`Interests: ${this.interests.join(\", \") || \"None\"}`);\n",
    "      }\n",
    "    };\n",
    "  }\n",
    "  \n",
    "  // Example profiles\n",
    "  const profile1 = createProfile({\n",
    "    name: \"Alice\",\n",
    "    age: 28,\n",
    "    occupation: \"Software Engineer\",\n",
    "    interests: [\"Hiking\", \"Coding\", \"Traveling\"],\n",
    "    location: \"San Francisco\"\n",
    "  });\n",
    "  \n",
    "  const profile2 = createProfile({\n",
    "    name: \"Bob\",\n",
    "    age: 34,\n",
    "    occupation: \"Graphic Designer\",\n",
    "    interests: [\"Photography\", \"Art\", \"Music\"],\n",
    "    location: \"New York\"\n",
    "  });\n",
    "  \n",
    "  const profile3 = createProfile({\n",
    "    name: \"Charlie\",\n",
    "    occupation: \"Freelancer\" // Missing age, interests, and location\n",
    "  });\n",
    "  \n",
    "  // Display profiles\n",
    "  profile1.displayProfile();\n",
    "  console.log(\"\\n\"); // Adds a line break between profiles\n",
    "  profile2.displayProfile();\n",
    "  console.log(\"\\n\");\n",
    "  profile3.displayProfile();\n",
    "  "
   ]
  },
  {
   "cell_type": "markdown",
   "metadata": {},
   "source": [
    "## 3.4"
   ]
  },
  {
   "cell_type": "markdown",
   "metadata": {},
   "source": [
    "Homework hack"
   ]
  },
  {
   "cell_type": "code",
   "execution_count": null,
   "metadata": {
    "vscode": {
     "languageId": "javascript"
    }
   },
   "outputs": [],
   "source": [
    "function validatePassword(password) {\n",
    "    // Criteria for a strong password\n",
    "    const minLength = 8;\n",
    "    const hasUpperCase = /[A-Z]/.test(password);\n",
    "    const hasLowerCase = /[a-z]/.test(password);\n",
    "    const hasNumbers = /\\d/.test(password);\n",
    "    const hasSpecialChar = /[!@#$%^&*(),.?\":{}|<>]/.test(password);\n",
    "\n",
    "    // Check if password meets all criteria\n",
    "    if (password.length < minLength) {\n",
    "        return \"Password must be at least 8 characters long.\";\n",
    "    }\n",
    "    if (!hasUpperCase) {\n",
    "        return \"Password must include at least one uppercase letter.\";\n",
    "    }\n",
    "    if (!hasLowerCase) {\n",
    "        return \"Password must include at least one lowercase letter.\";\n",
    "    }\n",
    "    if (!hasNumbers) {\n",
    "        return \"Password must include at least one number.\";\n",
    "    }\n",
    "    if (!hasSpecialChar) {\n",
    "        return \"Password must include at least one special character.\";\n",
    "    }\n",
    "\n",
    "    return \"Password is valid!\";\n",
    "}\n",
    "\n",
    "// Example usage\n",
    "const password = \"Passw0rd!\";\n",
    "const validationMessage = validatePassword(password);\n",
    "console.log(validationMessage);\n"
   ]
  },
  {
   "cell_type": "markdown",
   "metadata": {},
   "source": [
    "Popcorn hack"
   ]
  },
  {
   "cell_type": "code",
   "execution_count": null,
   "metadata": {
    "vscode": {
     "languageId": "javascript"
    }
   },
   "outputs": [],
   "source": [
    "function analyzeString(input) {\n",
    "    // Trim whitespace and convert to lowercase for consistent analysis\n",
    "    const trimmedInput = input.trim();\n",
    "    const length = trimmedInput.length;\n",
    "    \n",
    "    // Count characters\n",
    "    const charCount = {};\n",
    "    for (const char of trimmedInput) {\n",
    "        charCount[char] = (charCount[char] || 0) + 1;\n",
    "    }\n",
    "\n",
    "    // Check for palindrome\n",
    "    const isPalindrome = trimmedInput === trimmedInput.split('').reverse().join('');\n",
    "\n",
    "    // Create the results object\n",
    "    const results = {\n",
    "        length: length,\n",
    "        characterCount: charCount,\n",
    "        isPalindrome: isPalindrome,\n",
    "    };\n",
    "    return results;\n",
    "}\n",
    "\n",
    "// Example usage\n",
    "const inputString = \"A man a plan a canal Panama\";\n",
    "const analysisResult = analyzeString(inputString);\n",
    "console.log(analysisResult);\n"
   ]
  }
 ],
 "metadata": {
  "language_info": {
   "name": "python"
  }
 },
 "nbformat": 4,
 "nbformat_minor": 2
}
