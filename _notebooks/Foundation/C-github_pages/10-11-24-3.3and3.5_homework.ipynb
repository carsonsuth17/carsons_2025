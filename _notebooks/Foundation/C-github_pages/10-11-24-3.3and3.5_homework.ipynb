{
 "cells": [
  {
   "cell_type": "markdown",
   "metadata": {},
   "source": [
    "## Homework + Popcorn Hacks 3.3-3.5"
   ]
  },
  {
   "cell_type": "markdown",
   "metadata": {},
   "source": [
    "## 3.3"
   ]
  },
  {
   "cell_type": "markdown",
   "metadata": {},
   "source": [
    "popcorn hack #1"
   ]
  },
  {
   "cell_type": "code",
   "execution_count": null,
   "metadata": {},
   "outputs": [],
   "source": [
    "def calculate_y(x):\n",
    "    # Calculate y using the given formula\n",
    "    y = 7 * (x + 4) - 6\n",
    "    return y\n",
    "\n",
    "# Example usage:\n",
    "x_value = float(input(\"Enter a value for x: \"))\n",
    "y_value = calculate_y(x_value)\n",
    "print(f\"The value of y when x = {x_value} is: {y_value}\")\n"
   ]
  },
  {
   "cell_type": "markdown",
   "metadata": {},
   "source": [
    "popcorn hack #2"
   ]
  },
  {
   "cell_type": "markdown",
   "metadata": {},
   "source": [
    "86?"
   ]
  },
  {
   "cell_type": "markdown",
   "metadata": {},
   "source": [
    "popcorn hack #3"
   ]
  },
  {
   "cell_type": "code",
   "execution_count": null,
   "metadata": {},
   "outputs": [],
   "source": [
    "# List of numbers to test\n",
    "numbers = [1, 2, 3, 4, 5, 6, 7, 8, 9, 10]\n",
    "\n",
    "# Function to check divisibility by 3\n",
    "def check_divisibility(numbers):\n",
    "    for number in numbers:\n",
    "        if number % 3 == 0:\n",
    "            print(f\"{number} is divisible by 3\")\n",
    "        else:\n",
    "            remainder = number % 3\n",
    "            print(f\"{number}: Remainder is {remainder}\")\n",
    "\n",
    "# Call the function\n",
    "check_divisibility(numbers)\n"
   ]
  },
  {
   "cell_type": "markdown",
   "metadata": {},
   "source": [
    "homework hack #1"
   ]
  },
  {
   "cell_type": "markdown",
   "metadata": {},
   "source": [
    "fibonacci function"
   ]
  },
  {
   "cell_type": "code",
   "execution_count": null,
   "metadata": {},
   "outputs": [],
   "source": [
    "def fibonacci(n):\n",
    "    if n <= 0:\n",
    "        return \"Input must be a positive integer.\"\n",
    "    elif n == 1:\n",
    "        return 0\n",
    "    elif n == 2:\n",
    "        return 1\n",
    "    else:\n",
    "        a, b = 0, 1\n",
    "        for _ in range(2, n):\n",
    "            a, b = b, a + b\n",
    "        return b\n"
   ]
  },
  {
   "cell_type": "markdown",
   "metadata": {},
   "source": [
    "area calculation function"
   ]
  },
  {
   "cell_type": "code",
   "execution_count": null,
   "metadata": {},
   "outputs": [],
   "source": [
    "import math\n",
    "\n",
    "def calculate_area():\n",
    "    shape = input(\"Enter the shape (circle, square, rectangle): \").lower()\n",
    "    \n",
    "    if shape == \"circle\":\n",
    "        radius = float(input(\"Enter the radius: \"))\n",
    "        area = math.pi * radius ** 2\n",
    "        print(f\"The area of the circle is: {area:.2f}\")\n",
    "        \n",
    "    elif shape == \"square\":\n",
    "        side = float(input(\"Enter the side length: \"))\n",
    "        area = side ** 2\n",
    "        print(f\"The area of the square is: {area:.2f}\")\n",
    "        \n",
    "    elif shape == \"rectangle\":\n",
    "        length = float(input(\"Enter the length: \"))\n",
    "        width = float(input(\"Enter the width: \"))\n",
    "        area = length * width\n",
    "        print(f\"The area of the rectangle is: {area:.2f}\")\n",
    "        \n",
    "    else:\n",
    "        print(\"Invalid shape. Please enter circle, square, or rectangle.\")\n"
   ]
  },
  {
   "cell_type": "markdown",
   "metadata": {},
   "source": [
    "volume calculation function"
   ]
  },
  {
   "cell_type": "code",
   "execution_count": null,
   "metadata": {},
   "outputs": [],
   "source": [
    "def calculate_volume():\n",
    "    shape = input(\"Enter the shape (rectangular prism, sphere, pyramid): \").lower()\n",
    "    \n",
    "    if shape == \"rectangular prism\":\n",
    "        base = float(input(\"Enter the base length: \"))\n",
    "        width = float(input(\"Enter the width: \"))\n",
    "        height = float(input(\"Enter the height: \"))\n",
    "        volume = base * width * height\n",
    "        print(f\"The volume of the rectangular prism is: {volume:.2f}\")\n",
    "        \n",
    "    elif shape == \"sphere\":\n",
    "        radius = float(input(\"Enter the radius: \"))\n",
    "        volume = (4/3) * math.pi * radius ** 3\n",
    "        print(f\"The volume of the sphere is: {volume:.2f}\")\n",
    "        \n",
    "    elif shape == \"pyramid\":\n",
    "        base = float(input(\"Enter the base length: \"))\n",
    "        width = float(input(\"Enter the width: \"))\n",
    "        height = float(input(\"Enter the height: \"))\n",
    "        volume = (1/3) * base * width * height\n",
    "        print(f\"The volume of the pyramid is: {volume:.2f}\")\n",
    "        \n",
    "    else:\n",
    "        print(\"Invalid shape. Please enter rectangular prism, sphere, or pyramid.\")\n"
   ]
  },
  {
   "cell_type": "markdown",
   "metadata": {},
   "source": [
    "## 3.5"
   ]
  },
  {
   "cell_type": "code",
   "execution_count": null,
   "metadata": {},
   "outputs": [],
   "source": [
    "def truth_table():\n",
    "    # Print the header for the truth table\n",
    "    print(\"A\\tB\\tA AND B\\tA OR B\\tNOT A\\tA XOR B\")\n",
    "    print(\"-\" * 40)\n",
    "    \n",
    "    # Loop through all combinations of A and B (True, False)\n",
    "    for A in [True, False]:\n",
    "        for B in [True, False]:\n",
    "            A_and_B = A and B\n",
    "            A_or_B = A or B\n",
    "            not_A = not A\n",
    "            A_xor_B = A ^ B\n",
    "            \n",
    "            # Print the results for each combination\n",
    "            print(f\"{A}\\t{B}\\t{A_and_B}\\t\\t{A_or_B}\\t\\t{not_A}\\t{A_xor_B}\")\n",
    "\n",
    "# Call the function to display the truth table\n",
    "truth_table()\n"
   ]
  },
  {
   "cell_type": "markdown",
   "metadata": {},
   "source": [
    "popcorn hack #1"
   ]
  },
  {
   "cell_type": "code",
   "execution_count": null,
   "metadata": {},
   "outputs": [],
   "source": [
    "def check_boolean(value):\n",
    "    if value:\n",
    "        print(\"The boolean is True.\")\n",
    "    else:\n",
    "        print(\"The boolean is False.\")\n",
    "\n",
    "# Example usage\n",
    "boolean_value = True  # Change this value to test\n",
    "check_boolean(boolean_value)\n"
   ]
  },
  {
   "cell_type": "code",
   "execution_count": null,
   "metadata": {},
   "outputs": [],
   "source": [
    "def check_both_or_either(value1, value2):\n",
    "    if value1 and value2:\n",
    "        print(\"Both booleans are True.\")\n",
    "    elif value1 or value2:\n",
    "        print(\"At least one boolean is True.\")\n",
    "    else:\n",
    "        print(\"Both booleans are False.\")\n",
    "\n",
    "# Example usage\n",
    "boolean_value1 = True  # Change this value to test\n",
    "boolean_value2 = False  # Change this value to test\n",
    "check_both_or_either(boolean_value1, boolean_value2)\n"
   ]
  },
  {
   "cell_type": "markdown",
   "metadata": {},
   "source": [
    "popcorn hack #2"
   ]
  },
  {
   "cell_type": "code",
   "execution_count": null,
   "metadata": {},
   "outputs": [],
   "source": [
    "x = 15  # You can change this value to test different numbers\n",
    "\n",
    "is_greater_than_10 = x > 10\n",
    "\n",
    "print(is_greater_than_10)  # This will print True if x is greater than 10, otherwise False\n"
   ]
  },
  {
   "cell_type": "markdown",
   "metadata": {},
   "source": [
    "popcorn hack #3"
   ]
  },
  {
   "cell_type": "code",
   "execution_count": null,
   "metadata": {},
   "outputs": [],
   "source": [
    "is_three_digits = 100 <= x < 1000\n"
   ]
  }
 ],
 "metadata": {
  "language_info": {
   "name": "python"
  }
 },
 "nbformat": 4,
 "nbformat_minor": 2
}
