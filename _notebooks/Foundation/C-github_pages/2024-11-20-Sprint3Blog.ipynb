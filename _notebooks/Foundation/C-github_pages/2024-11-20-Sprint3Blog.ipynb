{
 "cells": [
  {
   "cell_type": "markdown",
   "metadata": {},
   "source": [
    "---\n",
    "layout: post\n",
    "title: Sprint 3 Blog\n",
    "description: A rundown of my sprint 3 review\n",
    "type: collab\n",
    "comments: True\n",
    "---"
   ]
  },
  {
   "cell_type": "markdown",
   "metadata": {},
   "source": [
    "## What have I learned from this quiz: \n",
    "I have learned that a lot of this was common sense and what looks right typically is right. I also learned that communication with my new teammates helped a lot.\n"
   ]
  },
  {
   "cell_type": "markdown",
   "metadata": {},
   "source": [
    "## What type of questions do I feel I was weak on: \n",
    "The questions with images were harder for me to comprehend but I got a handle on it with help from teammates and nearby tablemates.\n",
    "My analytics report that I was weakest at questions based on **data compression**, showing a **33%** success rate on 3 questions, meaning I got **1/3 correct**. It also reports I got **2/4** questions correct with questions based on **\"Identifying and Correcting Errors.\"**  I also report struggles with **boolean expressions,** getting **2/3** correct."
   ]
  },
  {
   "cell_type": "markdown",
   "metadata": {},
   "source": [
    "# **Corrections on anything I got wrong:** \n",
    "\n",
    "**Q6:**\n",
    " A - The internet: IETF doesnt prevent malware from being distibuted online. \n",
    "\n",
    "**Q11:**\n",
    " D - I selected C, which is wrong because the code segment selects \"Red\" one-sixth of the time, \"Yellow\" one-sixth of the time, and \"Blue\" the remaining two-thirds of the time.\n",
    "\n",
    "**Q25:**\n",
    "B - I selected D, which is wrong because I guessed on it and the fact it could be shortened by using byte pair encoding. \n",
    "\n",
    "**Q31:** \n",
    "C - I selected B, which is wrong because I guessed on it and program 1 also correctly moves the robot to the gray square by repeatedly moving the robot forward, left, and right. \n",
    "\n",
    "**Q33:** \n",
    "A - I selected B, which is wrong because I guessed on it.\n",
    "\n",
    "**Q37:** \n",
    "C - I selected A, because code segment 2 also displays the correct average.\n",
    "\n",
    "**Q43:**\n",
    "A - I selected B, which is wrong because the number of steps of the algorithm is a polynomial, so the algorithm runs in reasonable time. \n",
    "\n",
    "**Q44:** \n",
    "B - I selected C, which is wrong because the operation 10+7 causes an overflow error, while 12+3 does not produce a result large enough to cause one. \n",
    "\n",
    "**Q52:** \n",
    "D - I selected B, which is wrong because option 2 does work, but so does option 3.\n",
    "\n",
    "**Q54:**\n",
    "D - I selected  A, which is wrong because the add procedure doesn't generalize the square and cube procedures, which are used to calculate a power of N. \n",
    "\n",
    "**Q56:**\n",
    "\n",
    "D - I selected A, which is wrong because the program counts ODD integers, not EVEN integers. \n",
    "\n",
    "**Q57:**\n",
    "B - I selected D, this expression would return the string \"arpy\" \n",
    "\n",
    "**Q58:** \n",
    "A - I selected B, the internect can provide tools, info, and knowledge to crowdsourcing participants. \n",
    "\n",
    "**Q59:**\n",
    "B - I selected A, which is wrong because I guessed on it and usuing standard video format would help enure that the videos are accessible in the future. \n",
    "\n",
    "**Q60:** \n",
    "A+D - I selected B+C, which would be incorrect because using the shorter variable names would not help a programmer to manage the complexity of a program. \n",
    "\n",
    "**Q61:** \n",
    "A+B - I selected A+C, which is partially correct but C is wrong because east high school provides the zip code but west high school did not. \n",
    "\n",
    "**Q62:** \n",
    "C+D - I selected A+B, A is incorrect because as users from around the world add content to the online encyclopedia, it may become difficult to determine whether any of the new content is copyrighted. B is incorrect because as articles can be edited by any user, an article may contain different content when it is accessed at different times.\n",
    "\n",
    "**Q63:** \n",
    "B+D - C is wrong because the varible count should be incremented withing the if statement \n",
    "\n",
    "**Q66:** \n",
    "C+D - B is incorrect becayse the first value smaller than the first number in the list, so the procedure returns the correct value 1 0."
   ]
  },
  {
   "cell_type": "markdown",
   "metadata": {},
   "source": [
    "## **How can I get better at these questions?**\n",
    "\n",
    "I will review the earlier lessons about boolean expressions, and look over every question I had gotten wrong. I also will continue to ask for help from my classmates, my teachers, and former CSP students. "
   ]
  }
 ],
 "metadata": {
  "language_info": {
   "name": "python"
  }
 },
 "nbformat": 4,
 "nbformat_minor": 2
}
