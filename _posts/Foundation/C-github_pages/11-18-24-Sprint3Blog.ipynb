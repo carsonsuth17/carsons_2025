{
 "cells": [
  {
   "cell_type": "markdown",
   "metadata": {},
   "source": [
    "\n",
    "## Sprint 3 blog\n",
    "### A. What have I have learned from this quiz:\n",
    "I have learned that a lot of this was common sense and what looks right typically is right. I also learned that communication with my new teammates helped a lot. \n",
    "### B. What type of questions do I feel I was week on:\n",
    "The questions with images were harder for me to comprehend but I got a handle on it with help from teammates and nearby tablemates.\n",
    "### C. Corrections on anything I got wrong:\n",
    "- Q6: A\n",
    "- Q11: D\n",
    "- Q25: B\n",
    "- Q31: C\n",
    "- Q33: A\n",
    "- Q37: C\n",
    "- Q43: A\n",
    "- Q44: B\n",
    "- Q52: D\n",
    "- Q54: D\n",
    "- Q56: D\n",
    "- Q57: B\n",
    "- Q58: A\n",
    "- Q59: B\n",
    "- Q60: A+D\n",
    "- Q61: A+B\n",
    "- Q62: C+D\n",
    "- Q63: B+D\n",
    "- Q66: C+D\n"
   ]
  }
 ],
 "metadata": {
  "language_info": {
   "name": "python"
  }
 },
 "nbformat": 4,
 "nbformat_minor": 2
}
